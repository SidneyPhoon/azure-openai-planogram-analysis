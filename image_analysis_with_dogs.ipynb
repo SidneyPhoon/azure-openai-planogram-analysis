{
 "cells": [
  {
   "cell_type": "markdown",
   "metadata": {},
   "source": [
    "This notebook analyzes images using multi-modal GPT-4o model.\n",
    "\n",
    "The analysis is applied to an image of Group of Dogs with [Set-Of-Marks](https://example.com/set-of-marks) overlayed.\n",
    "\n",
    "The objective is to demonstrate the capability of analyzing different types of image with SOM.\n",
    "\n",
    "\n",
    "| Image |\n",
    "|----------|\n",
    "<img src=\"images/dogs.png\" alt=\"Alt Text\" width=\"500\" height=\"300\">\n"
   ]
  },
  {
   "cell_type": "code",
   "execution_count": null,
   "metadata": {},
   "outputs": [],
   "source": [
    "!pip install -r requirements.txt"
   ]
  },
  {
   "cell_type": "code",
   "execution_count": 1,
   "metadata": {},
   "outputs": [],
   "source": [
    "from dotenv import load_dotenv\n",
    "import os\n",
    "import requests\n",
    "import base64\n",
    "\n",
    "load_dotenv()\n",
    "\n",
    "# Configuration\n",
    "API_KEY = os.getenv('AZURE_OPENAI_API_KEY')\n",
    "RAW_IMAGE_PATH = \"images/dogs.png\"\n",
    "encoded_image = base64.b64encode(open(RAW_IMAGE_PATH, 'rb').read()).decode('ascii')\n",
    "headers = {\n",
    "    \"Content-Type\": \"application/json\",\n",
    "    \"api-key\": API_KEY,\n",
    "}"
   ]
  },
  {
   "cell_type": "code",
   "execution_count": 36,
   "metadata": {},
   "outputs": [],
   "source": [
    "system_message = \"\"\"You are a dog expert. Your job is to exhaustively inspect each dogs on the given photo and give a brief description of each dog.\"\"\"\n",
    "user_message = \"\"\"\n",
    "TASK:  you are going to create a single audit table by each shelf with columns: Number, Dog Size, Dog Breed, Color, Fur Type, Description. DO NOT hallucinate.\n",
    "RULES:\n",
    "- DO NOT INCLUDE ANYTHING THAT IS NOT CONSIDERED A DOG.\n",
    "- You must fill in all the columns for each dog.\n",
    "- You must fill in the table in the order of the dogs from left to right.\n",
    "- Size is the primary size of the dog, ranging from small, medium, to large.\n",
    "- Breed is the primary breed of the dog, estimated from the image.\n",
    "- Color is the primary color of the dog.\n",
    "- Fur Type is the primary fur type of the dog, ranging from short, medium, to long.\n",
    "- If you cannot determine the information, leave the column blank.\n",
    "- Description should be only from the information you have gathered from the image, try to include things such as pose, facial expression.\n",
    "\"\"\"\n",
    "\n",
    "# Payload for the request\n",
    "payload = {\n",
    "  \"messages\": [\n",
    "    {\n",
    "      \"role\": \"system\",\n",
    "      \"content\": [\n",
    "        {\n",
    "          \"type\": \"text\",\n",
    "          \"text\": system_message\n",
    "        }\n",
    "      ]\n",
    "    },\n",
    "    {\n",
    "      \"role\": \"user\",\n",
    "      \"content\": [\n",
    "        {\n",
    "          \"type\": \"text\",\n",
    "          \"text\": user_message\n",
    "        },\n",
    "\n",
    "        {\n",
    "          \"type\": \"image_url\",\n",
    "          \"image_url\": {\n",
    "            \"url\": f\"data:image/jpeg;base64,{encoded_image}\"\n",
    "          }\n",
    "        },\n",
    "        {\n",
    "          \"type\": \"text\",\n",
    "          \"text\": \"\\n\"\n",
    "        }\n",
    "      ]\n",
    "    }\n",
    "  ],\n",
    "  \"temperature\": 0.7,\n",
    "  \"top_p\": 0.95,\n",
    "  \"max_tokens\": 800\n",
    "}"
   ]
  },
  {
   "cell_type": "code",
   "execution_count": 37,
   "metadata": {},
   "outputs": [
    {
     "name": "stdout",
     "output_type": "stream",
     "text": [
      "{'choices': [{'content_filter_results': {'hate': {'filtered': False, 'severity': 'safe'}, 'self_harm': {'filtered': False, 'severity': 'safe'}, 'sexual': {'filtered': False, 'severity': 'safe'}, 'violence': {'filtered': False, 'severity': 'safe'}}, 'finish_reason': 'stop', 'index': 0, 'logprobs': None, 'message': {'content': '| Number | Dog Size | Dog Breed          | Color    | Fur Type | Description                                 |\\n|--------|----------|--------------------|----------|----------|---------------------------------------------|\\n| 3      | Small    | Unknown            | Brown/White | Short   | Sitting, ears perked up.                    |\\n| 11     | Medium   | Labrador Retriever | Yellow    | Short    | Sitting, looking forward.                   |\\n| 12     | Medium   | German Shepherd    | Brown/Black | Medium | Sitting, ears perked up, alert expression.  |\\n| 4      | Large    | Bernese Mountain Dog | Black/White/Brown | Long | Sitting, relaxed posture, fluffy fur.       |\\n| 5      | Large    | German Shepherd    | Brown/Black | Medium | Sitting, alert and attentive.               |\\n| 7      | Large    | German Shepherd    | Brown/Black | Medium | Sitting, ears perked up, alert expression.  |\\n| 8      | Medium   | Labrador Retriever | Black     | Short    | Sitting, calm demeanor.                     |\\n| 16     | Small    | Corgi              | White/Brown | Medium | Sitting, ears perked up, alert expression.  |\\n\\nNote: The breeds and colors are estimated based on the image.', 'role': 'assistant'}}], 'created': 1727462791, 'id': 'chatcmpl-ACAH1lwAtccssLKGQfaGKqJmR5OgN', 'model': 'gpt-4o-2024-05-13', 'object': 'chat.completion', 'prompt_filter_results': [{'prompt_index': 0, 'content_filter_result': {'jailbreak': {'filtered': False, 'detected': False}, 'custom_blocklists': {'filtered': False, 'details': []}}}, {'prompt_index': 2, 'content_filter_result': {'sexual': {'filtered': False, 'severity': 'safe'}, 'violence': {'filtered': False, 'severity': 'safe'}, 'hate': {'filtered': False, 'severity': 'safe'}, 'self_harm': {'filtered': False, 'severity': 'safe'}, 'custom_blocklists': {'filtered': False, 'details': []}}}], 'system_fingerprint': 'fp_67802d9a6d', 'usage': {'completion_tokens': 270, 'prompt_tokens': 689, 'total_tokens': 959}}\n"
     ]
    }
   ],
   "source": [
    "ENDPOINT_BASE = os.getenv('AZURE_OPENAI_ENDPOINT')\n",
    "API_VERSION = os.getenv('AZURE_OPENAI_API_VERSION')\n",
    "MODEL_DEPLOYMENT = os.getenv('AZURE_OPENAI_MODEL_DEPLOYMENT')\n",
    "ENDPOINT = f\"{ENDPOINT_BASE}openai/deployments/{MODEL_DEPLOYMENT}/chat/completions?api-version={API_VERSION}\"\n",
    "# Send request\n",
    "try:\n",
    "    response = requests.post(ENDPOINT, headers=headers, json=payload)\n",
    "    response.raise_for_status()  # Will raise an HTTPError if the HTTP request returned an unsuccessful status code\n",
    "except requests.RequestException as e:\n",
    "    raise SystemExit(f\"Failed to make the request. Error: {e}\")\n",
    "\n",
    "# Handle the response as needed (e.g., print or process)\n",
    "print(response.json())"
   ]
  },
  {
   "cell_type": "code",
   "execution_count": null,
   "metadata": {},
   "outputs": [],
   "source": [
    "import json\n",
    "\n",
    "# Print the response JSON nicely\n",
    "print(json.dumps(response.json(), indent=4))"
   ]
  },
  {
   "cell_type": "code",
   "execution_count": 38,
   "metadata": {},
   "outputs": [
    {
     "name": "stdout",
     "output_type": "stream",
     "text": [
      "| Number | Dog Size | Dog Breed          | Color    | Fur Type | Description                                 |\n",
      "|--------|----------|--------------------|----------|----------|---------------------------------------------|\n",
      "| 3      | Small    | Unknown            | Brown/White | Short   | Sitting, ears perked up.                    |\n",
      "| 11     | Medium   | Labrador Retriever | Yellow    | Short    | Sitting, looking forward.                   |\n",
      "| 12     | Medium   | German Shepherd    | Brown/Black | Medium | Sitting, ears perked up, alert expression.  |\n",
      "| 4      | Large    | Bernese Mountain Dog | Black/White/Brown | Long | Sitting, relaxed posture, fluffy fur.       |\n",
      "| 5      | Large    | German Shepherd    | Brown/Black | Medium | Sitting, alert and attentive.               |\n",
      "| 7      | Large    | German Shepherd    | Brown/Black | Medium | Sitting, ears perked up, alert expression.  |\n",
      "| 8      | Medium   | Labrador Retriever | Black     | Short    | Sitting, calm demeanor.                     |\n",
      "| 16     | Small    | Corgi              | White/Brown | Medium | Sitting, ears perked up, alert expression.  |\n",
      "\n",
      "Note: The breeds and colors are estimated based on the image.\n"
     ]
    }
   ],
   "source": [
    "# Extract and print the 'choices' -> 'message' -> 'content' part of the response JSON\n",
    "choices_content = response.json().get('choices', [{}])[0].get('message', {}).get('content')\n",
    "print(choices_content)"
   ]
  },
  {
   "cell_type": "markdown",
   "metadata": {},
   "source": [
    "Asking For specific SOM numbered dog"
   ]
  },
  {
   "cell_type": "code",
   "execution_count": 6,
   "metadata": {},
   "outputs": [
    {
     "name": "stdout",
     "output_type": "stream",
     "text": [
      "{'choices': [{'content_filter_results': {'hate': {'filtered': False, 'severity': 'safe'}, 'self_harm': {'filtered': False, 'severity': 'safe'}, 'sexual': {'filtered': False, 'severity': 'safe'}, 'violence': {'filtered': False, 'severity': 'safe'}}, 'finish_reason': 'stop', 'index': 0, 'logprobs': None, 'message': {'content': 'The dog labeled with the number 12 in the image is a German Shepherd. \\n\\n### Characteristics of a German Shepherd:\\n- **Size:** Large\\n- **Build:** Strong, athletic, and muscular\\n- **Coat:** Medium-length double coat, often tan with a black saddle, but can come in various colors.\\n- **Ears:** Erect and pointy\\n- **Tail:** Bushy and curves slightly downward\\n- **Temperament:** Intelligent, loyal, and versatile, often used in roles such as police and service work\\n- **Exercise Needs:** High, requires regular physical and mental stimulation\\n\\nThis breed is known for its versatility and is often seen in roles requiring high intelligence and trainability.', 'role': 'assistant'}}], 'created': 1727461942, 'id': 'chatcmpl-ACA3Kls25wGXeW0ozyHutvoR1w1em', 'model': 'gpt-4o-2024-05-13', 'object': 'chat.completion', 'prompt_filter_results': [{'prompt_index': 0, 'content_filter_result': {'jailbreak': {'filtered': False, 'detected': False}, 'custom_blocklists': {'filtered': False, 'details': []}}}, {'prompt_index': 2, 'content_filter_result': {'sexual': {'filtered': False, 'severity': 'safe'}, 'violence': {'filtered': False, 'severity': 'safe'}, 'hate': {'filtered': False, 'severity': 'safe'}, 'self_harm': {'filtered': False, 'severity': 'safe'}, 'custom_blocklists': {'filtered': False, 'details': []}}}], 'system_fingerprint': 'fp_67802d9a6d', 'usage': {'completion_tokens': 144, 'prompt_tokens': 512, 'total_tokens': 656}}\n"
     ]
    }
   ],
   "source": [
    "system_message = \"\"\"You are a dog expert. Your job is to exhaustively inspect each dogs on the given photo and give a brief description of each dog.\"\"\"\n",
    "user_message = \"\"\"\n",
    "Can you give me detail information on what dog is at 12?\n",
    "\"\"\"\n",
    "\n",
    "# Payload for the request\n",
    "payload = {\n",
    "  \"messages\": [\n",
    "    {\n",
    "      \"role\": \"system\",\n",
    "      \"content\": [\n",
    "        {\n",
    "          \"type\": \"text\",\n",
    "          \"text\": system_message\n",
    "        }\n",
    "      ]\n",
    "    },\n",
    "    {\n",
    "      \"role\": \"user\",\n",
    "      \"content\": [\n",
    "        {\n",
    "          \"type\": \"text\",\n",
    "          \"text\": user_message\n",
    "        },\n",
    "        {\n",
    "          \"type\": \"image_url\",\n",
    "          \"image_url\": {\n",
    "            \"url\": f\"data:image/jpeg;base64,{encoded_image}\"\n",
    "          }\n",
    "        },\n",
    "        {\n",
    "          \"type\": \"text\",\n",
    "          \"text\": \"\\n\"\n",
    "        }\n",
    "      ]\n",
    "    }\n",
    "  ],\n",
    "  \"temperature\": 0.7,\n",
    "  \"top_p\": 0.95,\n",
    "  \"max_tokens\": 800\n",
    "}\n",
    "\n",
    "\n",
    "# Send request\n",
    "try:\n",
    "    response = requests.post(ENDPOINT, headers=headers, json=payload)\n",
    "    response.raise_for_status()  # Will raise an HTTPError if the HTTP request returned an unsuccessful status code\n",
    "except requests.RequestException as e:\n",
    "    raise SystemExit(f\"Failed to make the request. Error: {e}\")\n",
    "\n",
    "# Handle the response as needed (e.g., print or process)\n",
    "print(response.json())"
   ]
  },
  {
   "cell_type": "code",
   "execution_count": 7,
   "metadata": {},
   "outputs": [
    {
     "name": "stdout",
     "output_type": "stream",
     "text": [
      "The dog labeled with the number 12 in the image is a German Shepherd. \n",
      "\n",
      "### Characteristics of a German Shepherd:\n",
      "- **Size:** Large\n",
      "- **Build:** Strong, athletic, and muscular\n",
      "- **Coat:** Medium-length double coat, often tan with a black saddle, but can come in various colors.\n",
      "- **Ears:** Erect and pointy\n",
      "- **Tail:** Bushy and curves slightly downward\n",
      "- **Temperament:** Intelligent, loyal, and versatile, often used in roles such as police and service work\n",
      "- **Exercise Needs:** High, requires regular physical and mental stimulation\n",
      "\n",
      "This breed is known for its versatility and is often seen in roles requiring high intelligence and trainability.\n"
     ]
    }
   ],
   "source": [
    "# Extract and print the 'choices' -> 'message' -> 'content' part of the response JSON\n",
    "choices_content = response.json().get('choices', [{}])[0].get('message', {}).get('content')\n",
    "print(choices_content)"
   ]
  },
  {
   "cell_type": "markdown",
   "metadata": {},
   "source": [
    "### Conclusion\n",
    "The analysis show that the SOM marker allows specify and target element to be analyzed."
   ]
  }
 ],
 "metadata": {
  "kernelspec": {
   "display_name": "base",
   "language": "python",
   "name": "python3"
  },
  "language_info": {
   "codemirror_mode": {
    "name": "ipython",
    "version": 3
   },
   "file_extension": ".py",
   "mimetype": "text/x-python",
   "name": "python",
   "nbconvert_exporter": "python",
   "pygments_lexer": "ipython3",
   "version": "3.11.9"
  }
 },
 "nbformat": 4,
 "nbformat_minor": 2
}
